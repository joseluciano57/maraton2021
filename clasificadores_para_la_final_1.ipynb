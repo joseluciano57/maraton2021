{
 "cells": [
  {
   "cell_type": "code",
   "execution_count": null,
   "id": "14f37a35",
   "metadata": {},
   "outputs": [],
   "source": [
    "from sklearn.linear_model import LogisticRegression\n",
    "from sklearn.discriminant_analysis import LinearDiscriminantAnalysis\n",
    "from sklearn.neighbors import KNeighborsClassifier\n",
    "from sklearn.naive_bayes import GaussianNB\n",
    "from sklearn.tree import DecisionTreeClassifier\n",
    "from sklearn import svm\n",
    "\n",
    "import pandas as pd\n",
    "from sklearn.metrics import classification_report\n",
    "from sklearn.metrics import confusion_matrix\n",
    "from sklearn.metrics import accuracy_score\n",
    "\n",
    "from sklearn.model_selection import train_test_split\n",
    "\n",
    "from sklearn import datasets\n",
    "\n",
    "iris = datasets.load_iris()"
   ]
  },
  {
   "cell_type": "code",
   "execution_count": null,
   "id": "93c080a7",
   "metadata": {},
   "outputs": [],
   "source": [
    "iris"
   ]
  },
  {
   "cell_type": "code",
   "execution_count": null,
   "id": "addb7ae8",
   "metadata": {},
   "outputs": [],
   "source": [
    "iris.data"
   ]
  },
  {
   "cell_type": "code",
   "execution_count": null,
   "id": "61a77ad0",
   "metadata": {},
   "outputs": [],
   "source": [
    "iris.target"
   ]
  },
  {
   "cell_type": "code",
   "execution_count": null,
   "id": "9f5abe46",
   "metadata": {},
   "outputs": [],
   "source": [
    "df_propiedades = pd.DataFrame(iris.data)"
   ]
  },
  {
   "cell_type": "code",
   "execution_count": null,
   "id": "eab501de",
   "metadata": {},
   "outputs": [],
   "source": [
    "df_target=pd.DataFrame(iris.target)"
   ]
  },
  {
   "cell_type": "code",
   "execution_count": null,
   "id": "19b513ed",
   "metadata": {},
   "outputs": [],
   "source": [
    "df_iris = pd.concat([df_propiedades, df_target], axis=1)"
   ]
  },
  {
   "cell_type": "code",
   "execution_count": null,
   "id": "b0697ffa",
   "metadata": {},
   "outputs": [],
   "source": [
    "df_iris.head()"
   ]
  },
  {
   "cell_type": "code",
   "execution_count": null,
   "id": "ba0e1212",
   "metadata": {},
   "outputs": [],
   "source": [
    "df_iris.columns = ['SepalLengthCm', 'SepalWidthCm', 'PetalLengthCm', 'PetalWidthCm', 'Species']"
   ]
  },
  {
   "cell_type": "code",
   "execution_count": null,
   "id": "40646e01",
   "metadata": {},
   "outputs": [],
   "source": [
    "df_iris"
   ]
  },
  {
   "cell_type": "code",
   "execution_count": null,
   "id": "99f5cccf",
   "metadata": {},
   "outputs": [],
   "source": [
    "data=df_iris"
   ]
  },
  {
   "cell_type": "code",
   "execution_count": null,
   "id": "32403c2b",
   "metadata": {},
   "outputs": [],
   "source": [
    "data.info()"
   ]
  },
  {
   "cell_type": "code",
   "execution_count": null,
   "id": "27e508a2",
   "metadata": {},
   "outputs": [],
   "source": [
    "data.head()"
   ]
  },
  {
   "cell_type": "code",
   "execution_count": null,
   "id": "ae6ae2a9",
   "metadata": {},
   "outputs": [],
   "source": [
    "X = data.iloc[:,:-1].values"
   ]
  },
  {
   "cell_type": "code",
   "execution_count": null,
   "id": "ebce9704",
   "metadata": {},
   "outputs": [],
   "source": [
    "X"
   ]
  },
  {
   "cell_type": "code",
   "execution_count": null,
   "id": "6706e912",
   "metadata": {},
   "outputs": [],
   "source": [
    "y = data['Species']"
   ]
  },
  {
   "cell_type": "code",
   "execution_count": null,
   "id": "04951fa4",
   "metadata": {},
   "outputs": [],
   "source": [
    "y.head()"
   ]
  },
  {
   "cell_type": "markdown",
   "id": "3fb5b9b8",
   "metadata": {},
   "source": [
    "## NOTA: LA MATRIZ DE CARACTERÍSTICAS ES UN ARREGLO DE VALORES, NO UN DATAFRAME"
   ]
  },
  {
   "cell_type": "markdown",
   "id": "60e5fdd3",
   "metadata": {},
   "source": [
    "## Clasificador con Máquinas de Vectores de Soporte"
   ]
  },
  {
   "cell_type": "code",
   "execution_count": 128,
   "id": "7a8dec66",
   "metadata": {},
   "outputs": [],
   "source": [
    "def particiona_datos(X,y,size_test):\n",
    "    X_train, X_test, y_train, y_test = train_test_split(X, y, test_size=size_test, random_state=27)\n",
    "    \n",
    "    return (X_train, X_test, y_train, y_test)"
   ]
  },
  {
   "cell_type": "code",
   "execution_count": 129,
   "id": "fb52ae4e",
   "metadata": {},
   "outputs": [],
   "source": [
    "def entrenador_SVM(X_train,y_train):\n",
    "    print(X_train)  \n",
    "    print(y_train)\n",
    "    modelo = svm.SVC()\n",
    "    modelo.fit(X_train, y_train)\n",
    "    \n",
    "    return modelo\n",
    "    "
   ]
  },
  {
   "cell_type": "code",
   "execution_count": 130,
   "id": "f723bae4",
   "metadata": {},
   "outputs": [],
   "source": [
    "def probador_modelo(X_test,modelo):\n",
    "    prediccion = modelo.predict(X_test)\n",
    "    \n",
    "    return prediccion"
   ]
  },
  {
   "cell_type": "code",
   "execution_count": 131,
   "id": "9da1f927",
   "metadata": {},
   "outputs": [],
   "source": [
    "def medidor_de_resultados(prediccion,y_test):\n",
    "    print(accuracy_score(prediccion, y_test))\n",
    "    print(confusion_matrix(prediccion, y_test))\n",
    "    print(classification_report(prediccion, y_test))\n",
    "    return"
   ]
  },
  {
   "cell_type": "code",
   "execution_count": 132,
   "id": "c003932e",
   "metadata": {},
   "outputs": [],
   "source": [
    "size_test=0.20"
   ]
  },
  {
   "cell_type": "code",
   "execution_count": 133,
   "id": "1d34c92a",
   "metadata": {},
   "outputs": [],
   "source": [
    "X_train, X_test, y_train, y_test=particiona_datos(X,y,size_test)"
   ]
  },
  {
   "cell_type": "code",
   "execution_count": 134,
   "id": "f56cb83d",
   "metadata": {},
   "outputs": [
    {
     "name": "stdout",
     "output_type": "stream",
     "text": [
      "[[6.3 2.7 4.9 1.8]\n",
      " [5.  3.5 1.3 0.3]\n",
      " [6.4 2.7 5.3 1.9]\n",
      " [6.2 2.9 4.3 1.3]\n",
      " [6.7 3.1 4.7 1.5]\n",
      " [4.4 3.  1.3 0.2]\n",
      " [6.8 2.8 4.8 1.4]\n",
      " [6.3 2.5 5.  1.9]\n",
      " [5.8 2.7 3.9 1.2]\n",
      " [4.8 3.1 1.6 0.2]\n",
      " [4.6 3.4 1.4 0.3]\n",
      " [6.3 2.9 5.6 1.8]\n",
      " [5.9 3.2 4.8 1.8]\n",
      " [7.2 3.2 6.  1.8]\n",
      " [4.6 3.6 1.  0.2]\n",
      " [6.  2.9 4.5 1.5]\n",
      " [6.8 3.  5.5 2.1]\n",
      " [7.4 2.8 6.1 1.9]\n",
      " [6.1 2.9 4.7 1.4]\n",
      " [5.  3.5 1.6 0.6]\n",
      " [5.4 3.7 1.5 0.2]\n",
      " [5.1 3.5 1.4 0.2]\n",
      " [5.5 2.4 3.8 1.1]\n",
      " [5.2 3.5 1.5 0.2]\n",
      " [6.3 2.3 4.4 1.3]\n",
      " [5.7 3.8 1.7 0.3]\n",
      " [6.7 3.1 5.6 2.4]\n",
      " [4.8 3.4 1.6 0.2]\n",
      " [4.8 3.  1.4 0.3]\n",
      " [6.5 2.8 4.6 1.5]\n",
      " [5.8 2.7 5.1 1.9]\n",
      " [6.2 2.8 4.8 1.8]\n",
      " [5.7 3.  4.2 1.2]\n",
      " [7.1 3.  5.9 2.1]\n",
      " [6.7 3.3 5.7 2.5]\n",
      " [5.5 2.5 4.  1.3]\n",
      " [6.4 3.1 5.5 1.8]\n",
      " [6.4 2.8 5.6 2.2]\n",
      " [4.3 3.  1.1 0.1]\n",
      " [6.9 3.1 5.4 2.1]\n",
      " [5.  3.2 1.2 0.2]\n",
      " [6.5 3.  5.2 2. ]\n",
      " [6.7 3.3 5.7 2.1]\n",
      " [5.1 3.8 1.9 0.4]\n",
      " [4.9 2.4 3.3 1. ]\n",
      " [5.1 3.8 1.6 0.2]\n",
      " [5.  3.4 1.6 0.4]\n",
      " [5.8 4.  1.2 0.2]\n",
      " [5.8 2.7 4.1 1. ]\n",
      " [5.4 3.  4.5 1.5]\n",
      " [6.3 3.4 5.6 2.4]\n",
      " [6.3 3.3 6.  2.5]\n",
      " [4.5 2.3 1.3 0.3]\n",
      " [6.5 3.2 5.1 2. ]\n",
      " [4.9 3.  1.4 0.2]\n",
      " [6.6 3.  4.4 1.4]\n",
      " [5.8 2.8 5.1 2.4]\n",
      " [7.7 3.  6.1 2.3]\n",
      " [7.  3.2 4.7 1.4]\n",
      " [4.9 3.1 1.5 0.2]\n",
      " [5.9 3.  4.2 1.5]\n",
      " [6.8 3.2 5.9 2.3]\n",
      " [5.6 2.9 3.6 1.3]\n",
      " [5.8 2.7 5.1 1.9]\n",
      " [5.  2.  3.5 1. ]\n",
      " [6.2 2.2 4.5 1.5]\n",
      " [5.4 3.9 1.3 0.4]\n",
      " [6.1 2.8 4.7 1.2]\n",
      " [4.7 3.2 1.6 0.2]\n",
      " [4.4 2.9 1.4 0.2]\n",
      " [5.2 3.4 1.4 0.2]\n",
      " [5.  3.4 1.5 0.2]\n",
      " [7.2 3.6 6.1 2.5]\n",
      " [7.3 2.9 6.3 1.8]\n",
      " [5.1 3.5 1.4 0.3]\n",
      " [5.5 2.4 3.7 1. ]\n",
      " [6.9 3.1 4.9 1.5]\n",
      " [6.7 2.5 5.8 1.8]\n",
      " [5.1 3.3 1.7 0.5]\n",
      " [5.7 2.9 4.2 1.3]\n",
      " [5.6 2.8 4.9 2. ]\n",
      " [5.9 3.  5.1 1.8]\n",
      " [4.4 3.2 1.3 0.2]\n",
      " [5.4 3.9 1.7 0.4]\n",
      " [7.9 3.8 6.4 2. ]\n",
      " [5.7 2.8 4.1 1.3]\n",
      " [5.3 3.7 1.5 0.2]\n",
      " [6.1 2.6 5.6 1.4]\n",
      " [5.6 3.  4.5 1.5]\n",
      " [5.5 4.2 1.4 0.2]\n",
      " [6.  2.2 5.  1.5]\n",
      " [5.5 2.3 4.  1.3]\n",
      " [6.5 3.  5.8 2.2]\n",
      " [5.2 2.7 3.9 1.4]\n",
      " [5.1 3.4 1.5 0.2]\n",
      " [5.1 2.5 3.  1.1]\n",
      " [5.  2.3 3.3 1. ]\n",
      " [6.1 2.8 4.  1.3]\n",
      " [6.  2.2 4.  1. ]\n",
      " [7.7 2.6 6.9 2.3]\n",
      " [4.6 3.1 1.5 0.2]\n",
      " [6.4 3.2 4.5 1.5]\n",
      " [6.  3.4 4.5 1.6]\n",
      " [5.2 4.1 1.5 0.1]\n",
      " [5.7 2.6 3.5 1. ]\n",
      " [5.7 4.4 1.5 0.4]\n",
      " [6.  2.7 5.1 1.6]\n",
      " [5.  3.6 1.4 0.2]\n",
      " [6.  3.  4.8 1.8]\n",
      " [6.1 3.  4.9 1.8]\n",
      " [4.7 3.2 1.3 0.2]\n",
      " [5.7 2.5 5.  2. ]\n",
      " [6.9 3.1 5.1 2.3]\n",
      " [5.  3.  1.6 0.2]\n",
      " [4.8 3.4 1.9 0.2]\n",
      " [4.9 3.6 1.4 0.1]\n",
      " [6.3 3.3 4.7 1.6]\n",
      " [5.4 3.4 1.5 0.4]\n",
      " [6.3 2.5 4.9 1.5]\n",
      " [5.1 3.8 1.5 0.3]]\n",
      "123    2\n",
      "40     0\n",
      "111    2\n",
      "97     1\n",
      "86     1\n",
      "      ..\n",
      "37     0\n",
      "56     1\n",
      "31     0\n",
      "72     1\n",
      "19     0\n",
      "Name: Species, Length: 120, dtype: int32\n"
     ]
    }
   ],
   "source": [
    "modelo_svm = entrenador_SVM(X_train,y_train)"
   ]
  },
  {
   "cell_type": "code",
   "execution_count": 135,
   "id": "362d779e",
   "metadata": {},
   "outputs": [],
   "source": [
    "prediccion_svm=probador_modelo(X_test,modelo_svm)"
   ]
  },
  {
   "cell_type": "code",
   "execution_count": 136,
   "id": "651eda24",
   "metadata": {},
   "outputs": [
    {
     "name": "stdout",
     "output_type": "stream",
     "text": [
      "0.9333333333333333\n",
      "[[ 7  0  0]\n",
      " [ 0 10  1]\n",
      " [ 0  1 11]]\n",
      "              precision    recall  f1-score   support\n",
      "\n",
      "           0       1.00      1.00      1.00         7\n",
      "           1       0.91      0.91      0.91        11\n",
      "           2       0.92      0.92      0.92        12\n",
      "\n",
      "    accuracy                           0.93        30\n",
      "   macro avg       0.94      0.94      0.94        30\n",
      "weighted avg       0.93      0.93      0.93        30\n",
      "\n"
     ]
    }
   ],
   "source": [
    "medidor_de_resultados(prediccion_svm,y_test)"
   ]
  },
  {
   "cell_type": "markdown",
   "id": "d091a416",
   "metadata": {},
   "source": [
    "## Clasificador con K Means"
   ]
  },
  {
   "cell_type": "code",
   "execution_count": 137,
   "id": "1775a2ec",
   "metadata": {},
   "outputs": [],
   "source": [
    "def entrenador_Kmeans(X_train,y_train):\n",
    "    print(X_train)  \n",
    "    print(y_train)\n",
    "    modelo = KNeighborsClassifier(n_neighbors=5)\n",
    "    modelo.fit(X_train, y_train)\n",
    "    \n",
    "    return modelo"
   ]
  },
  {
   "cell_type": "code",
   "execution_count": 138,
   "id": "7f1d9b6f",
   "metadata": {},
   "outputs": [
    {
     "name": "stdout",
     "output_type": "stream",
     "text": [
      "[[6.3 2.7 4.9 1.8]\n",
      " [5.  3.5 1.3 0.3]\n",
      " [6.4 2.7 5.3 1.9]\n",
      " [6.2 2.9 4.3 1.3]\n",
      " [6.7 3.1 4.7 1.5]\n",
      " [4.4 3.  1.3 0.2]\n",
      " [6.8 2.8 4.8 1.4]\n",
      " [6.3 2.5 5.  1.9]\n",
      " [5.8 2.7 3.9 1.2]\n",
      " [4.8 3.1 1.6 0.2]\n",
      " [4.6 3.4 1.4 0.3]\n",
      " [6.3 2.9 5.6 1.8]\n",
      " [5.9 3.2 4.8 1.8]\n",
      " [7.2 3.2 6.  1.8]\n",
      " [4.6 3.6 1.  0.2]\n",
      " [6.  2.9 4.5 1.5]\n",
      " [6.8 3.  5.5 2.1]\n",
      " [7.4 2.8 6.1 1.9]\n",
      " [6.1 2.9 4.7 1.4]\n",
      " [5.  3.5 1.6 0.6]\n",
      " [5.4 3.7 1.5 0.2]\n",
      " [5.1 3.5 1.4 0.2]\n",
      " [5.5 2.4 3.8 1.1]\n",
      " [5.2 3.5 1.5 0.2]\n",
      " [6.3 2.3 4.4 1.3]\n",
      " [5.7 3.8 1.7 0.3]\n",
      " [6.7 3.1 5.6 2.4]\n",
      " [4.8 3.4 1.6 0.2]\n",
      " [4.8 3.  1.4 0.3]\n",
      " [6.5 2.8 4.6 1.5]\n",
      " [5.8 2.7 5.1 1.9]\n",
      " [6.2 2.8 4.8 1.8]\n",
      " [5.7 3.  4.2 1.2]\n",
      " [7.1 3.  5.9 2.1]\n",
      " [6.7 3.3 5.7 2.5]\n",
      " [5.5 2.5 4.  1.3]\n",
      " [6.4 3.1 5.5 1.8]\n",
      " [6.4 2.8 5.6 2.2]\n",
      " [4.3 3.  1.1 0.1]\n",
      " [6.9 3.1 5.4 2.1]\n",
      " [5.  3.2 1.2 0.2]\n",
      " [6.5 3.  5.2 2. ]\n",
      " [6.7 3.3 5.7 2.1]\n",
      " [5.1 3.8 1.9 0.4]\n",
      " [4.9 2.4 3.3 1. ]\n",
      " [5.1 3.8 1.6 0.2]\n",
      " [5.  3.4 1.6 0.4]\n",
      " [5.8 4.  1.2 0.2]\n",
      " [5.8 2.7 4.1 1. ]\n",
      " [5.4 3.  4.5 1.5]\n",
      " [6.3 3.4 5.6 2.4]\n",
      " [6.3 3.3 6.  2.5]\n",
      " [4.5 2.3 1.3 0.3]\n",
      " [6.5 3.2 5.1 2. ]\n",
      " [4.9 3.  1.4 0.2]\n",
      " [6.6 3.  4.4 1.4]\n",
      " [5.8 2.8 5.1 2.4]\n",
      " [7.7 3.  6.1 2.3]\n",
      " [7.  3.2 4.7 1.4]\n",
      " [4.9 3.1 1.5 0.2]\n",
      " [5.9 3.  4.2 1.5]\n",
      " [6.8 3.2 5.9 2.3]\n",
      " [5.6 2.9 3.6 1.3]\n",
      " [5.8 2.7 5.1 1.9]\n",
      " [5.  2.  3.5 1. ]\n",
      " [6.2 2.2 4.5 1.5]\n",
      " [5.4 3.9 1.3 0.4]\n",
      " [6.1 2.8 4.7 1.2]\n",
      " [4.7 3.2 1.6 0.2]\n",
      " [4.4 2.9 1.4 0.2]\n",
      " [5.2 3.4 1.4 0.2]\n",
      " [5.  3.4 1.5 0.2]\n",
      " [7.2 3.6 6.1 2.5]\n",
      " [7.3 2.9 6.3 1.8]\n",
      " [5.1 3.5 1.4 0.3]\n",
      " [5.5 2.4 3.7 1. ]\n",
      " [6.9 3.1 4.9 1.5]\n",
      " [6.7 2.5 5.8 1.8]\n",
      " [5.1 3.3 1.7 0.5]\n",
      " [5.7 2.9 4.2 1.3]\n",
      " [5.6 2.8 4.9 2. ]\n",
      " [5.9 3.  5.1 1.8]\n",
      " [4.4 3.2 1.3 0.2]\n",
      " [5.4 3.9 1.7 0.4]\n",
      " [7.9 3.8 6.4 2. ]\n",
      " [5.7 2.8 4.1 1.3]\n",
      " [5.3 3.7 1.5 0.2]\n",
      " [6.1 2.6 5.6 1.4]\n",
      " [5.6 3.  4.5 1.5]\n",
      " [5.5 4.2 1.4 0.2]\n",
      " [6.  2.2 5.  1.5]\n",
      " [5.5 2.3 4.  1.3]\n",
      " [6.5 3.  5.8 2.2]\n",
      " [5.2 2.7 3.9 1.4]\n",
      " [5.1 3.4 1.5 0.2]\n",
      " [5.1 2.5 3.  1.1]\n",
      " [5.  2.3 3.3 1. ]\n",
      " [6.1 2.8 4.  1.3]\n",
      " [6.  2.2 4.  1. ]\n",
      " [7.7 2.6 6.9 2.3]\n",
      " [4.6 3.1 1.5 0.2]\n",
      " [6.4 3.2 4.5 1.5]\n",
      " [6.  3.4 4.5 1.6]\n",
      " [5.2 4.1 1.5 0.1]\n",
      " [5.7 2.6 3.5 1. ]\n",
      " [5.7 4.4 1.5 0.4]\n",
      " [6.  2.7 5.1 1.6]\n",
      " [5.  3.6 1.4 0.2]\n",
      " [6.  3.  4.8 1.8]\n",
      " [6.1 3.  4.9 1.8]\n",
      " [4.7 3.2 1.3 0.2]\n",
      " [5.7 2.5 5.  2. ]\n",
      " [6.9 3.1 5.1 2.3]\n",
      " [5.  3.  1.6 0.2]\n",
      " [4.8 3.4 1.9 0.2]\n",
      " [4.9 3.6 1.4 0.1]\n",
      " [6.3 3.3 4.7 1.6]\n",
      " [5.4 3.4 1.5 0.4]\n",
      " [6.3 2.5 4.9 1.5]\n",
      " [5.1 3.8 1.5 0.3]]\n",
      "123    2\n",
      "40     0\n",
      "111    2\n",
      "97     1\n",
      "86     1\n",
      "      ..\n",
      "37     0\n",
      "56     1\n",
      "31     0\n",
      "72     1\n",
      "19     0\n",
      "Name: Species, Length: 120, dtype: int32\n"
     ]
    }
   ],
   "source": [
    "modelo_kmeans = entrenador_Kmeans(X_train,y_train)"
   ]
  },
  {
   "cell_type": "code",
   "execution_count": 139,
   "id": "27085c5a",
   "metadata": {},
   "outputs": [],
   "source": [
    "prediccion_kmeans=probador_modelo(X_test,modelo_kmeans)"
   ]
  },
  {
   "cell_type": "code",
   "execution_count": 140,
   "id": "556b53e3",
   "metadata": {},
   "outputs": [
    {
     "name": "stdout",
     "output_type": "stream",
     "text": [
      "0.9666666666666667\n",
      "[[ 7  0  0]\n",
      " [ 0 11  1]\n",
      " [ 0  0 11]]\n",
      "              precision    recall  f1-score   support\n",
      "\n",
      "           0       1.00      1.00      1.00         7\n",
      "           1       1.00      0.92      0.96        12\n",
      "           2       0.92      1.00      0.96        11\n",
      "\n",
      "    accuracy                           0.97        30\n",
      "   macro avg       0.97      0.97      0.97        30\n",
      "weighted avg       0.97      0.97      0.97        30\n",
      "\n"
     ]
    }
   ],
   "source": [
    "medidor_de_resultados(prediccion_kmeans,y_test)"
   ]
  },
  {
   "cell_type": "code",
   "execution_count": null,
   "id": "8d26a62a",
   "metadata": {},
   "outputs": [],
   "source": []
  },
  {
   "cell_type": "code",
   "execution_count": null,
   "id": "71213b95",
   "metadata": {},
   "outputs": [],
   "source": []
  }
 ],
 "metadata": {
  "kernelspec": {
   "display_name": "Python 3",
   "language": "python",
   "name": "python3"
  },
  "language_info": {
   "codemirror_mode": {
    "name": "ipython",
    "version": 3
   },
   "file_extension": ".py",
   "mimetype": "text/x-python",
   "name": "python",
   "nbconvert_exporter": "python",
   "pygments_lexer": "ipython3",
   "version": "3.8.8"
  }
 },
 "nbformat": 4,
 "nbformat_minor": 5
}
